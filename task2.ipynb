{
 "cells": [
  {
   "cell_type": "markdown",
   "metadata": {},
   "source": [
    "## Task 2"
   ]
  },
  {
   "cell_type": "markdown",
   "metadata": {},
   "source": [
    "* Implement simple fully-convolutional neural architecture for classification. Make sure it is small enought to run on your home machine.\n",
    "* Provide dataset visulization.\n",
    "* Provide train/test split and validation"
   ]
  },
  {
   "cell_type": "code",
   "execution_count": 50,
   "metadata": {
    "collapsed": true
   },
   "outputs": [],
   "source": [
    "import time"
   ]
  },
  {
   "cell_type": "code",
   "execution_count": 17,
   "metadata": {
    "collapsed": false
   },
   "outputs": [],
   "source": [
    "# download data and split it to batches\n",
    "import torchvision\n",
    "\n",
    "tensor = torchvision.transforms.Compose([torchvision.transforms.ToTensor()])\n",
    "\n",
    "train = torchvision.datasets.FashionMNIST('data/', download=True, train=True, transform=tensor)\n",
    "test  = torchvision.datasets.FashionMNIST('data/', download=True, train=False, transform=tensor)\n",
    "\n",
    "train_loader = torch.utils.data.DataLoader(train,\n",
    "                                           batch_size=40,\n",
    "                                           shuffle=True)\n",
    "\n",
    "test_loader  = torch.utils.data.DataLoader(test,\n",
    "                                           batch_size=40,\n",
    "                                           shuffle=True)"
   ]
  },
  {
   "cell_type": "code",
   "execution_count": 75,
   "metadata": {
    "collapsed": true
   },
   "outputs": [],
   "source": [
    "import torch.nn as nn\n",
    "import torch.nn.functional as F\n",
    "\n",
    "class Model(nn.Module):\n",
    "    \"\"\"\n",
    "    FCN\n",
    "    \"\"\"\n",
    "    def __init__(self):\n",
    "        super(Model, self).__init__()\n",
    "        \n",
    "        self.conv1 = nn.Conv2d(1, 20, 5, padding=2)\n",
    "        self.norm1 = nn.BatchNorm2d(20)\n",
    "        \n",
    "        self.conv2 = nn.Conv2d(20, 20, 5)\n",
    "        self.norm2 = nn.BatchNorm2d(20)\n",
    "        \n",
    "        self.conv3 = nn.Conv2d(20, 10, 1)\n",
    "        self.norm3 = nn.BatchNorm2d(10)\n",
    "        \n",
    "        self.lin = nn.Linear(24 * 24 * 10, 10)\n",
    "\n",
    "    def forward(self, x):\n",
    "        x = self.norm1(F.relu(self.conv1(x)))\n",
    "        x = self.norm2(F.relu(self.conv2(x)))\n",
    "        x = self.norm3(F.relu(self.conv3(x)))\n",
    "        #x = x.view(x.size())\n",
    "        x = x.view(40, 24 * 24 * 10)\n",
    "        \n",
    "        return F.softmax(self.lin(x))\n",
    "        "
   ]
  },
  {
   "cell_type": "code",
   "execution_count": 76,
   "metadata": {
    "collapsed": false
   },
   "outputs": [],
   "source": [
    "FCN = Model()"
   ]
  },
  {
   "cell_type": "code",
   "execution_count": 77,
   "metadata": {
    "collapsed": false
   },
   "outputs": [],
   "source": [
    "loss = torch.nn.MSELoss()#CrossEntropyLoss()\n",
    "optimizer = torch.optim.SGD(FCN.parameters(), lr=0.1)"
   ]
  },
  {
   "cell_type": "code",
   "execution_count": 82,
   "metadata": {
    "collapsed": false
   },
   "outputs": [
    {
     "name": "stdout",
     "output_type": "stream",
     "text": [
      "CPU times: user 27min 1s, sys: 3min 8s, total: 30min 9s\n",
      "Wall time: 5min 19s\n"
     ]
    }
   ],
   "source": [
    "%%time\n",
    "\n",
    "num_epoch = 3\n",
    "for epoch in range(num_epoch):\n",
    "    for X, y in train_loader:\n",
    "        y_est = FCN(X)\n",
    "\n",
    "        y_vec = torch.zeros(y.shape[0], 10)\n",
    "        y_vec[torch.arange(y.shape[0]), y] = 1.0\n",
    "        loss_val = loss(y_est, y_vec)\n",
    "\n",
    "        optimizer.zero_grad()\n",
    "        loss_val.backward()\n",
    "\n",
    "        optimizer.step()\n",
    "    "
   ]
  },
  {
   "cell_type": "code",
   "execution_count": 83,
   "metadata": {
    "collapsed": false
   },
   "outputs": [
    {
     "name": "stdout",
     "output_type": "stream",
     "text": [
      "Accuracy = 0.898\n",
      "CPU times: user 29.5 s, sys: 7.99 s, total: 37.4 s\n",
      "Wall time: 9.37 s\n"
     ]
    }
   ],
   "source": [
    "%%time\n",
    "\n",
    "score = 0\n",
    "for X, y in test_loader:\n",
    "    y_est = FCN(X)\n",
    "    #print(y_est)\n",
    " \n",
    "    \n",
    "    classes = torch.argmax(y_est, dim=1)\n",
    "    \n",
    "    score += torch.sum(y==classes).item()\n",
    "\n",
    "print(\"Accuracy = {}\".format(score / len(test)))"
   ]
  },
  {
   "cell_type": "code",
   "execution_count": null,
   "metadata": {
    "collapsed": true
   },
   "outputs": [],
   "source": []
  }
 ],
 "metadata": {
  "kernelspec": {
   "display_name": "Python 3",
   "language": "python",
   "name": "python3"
  },
  "language_info": {
   "codemirror_mode": {
    "name": "ipython",
    "version": 3
   },
   "file_extension": ".py",
   "mimetype": "text/x-python",
   "name": "python",
   "nbconvert_exporter": "python",
   "pygments_lexer": "ipython3",
   "version": "3.6.3"
  }
 },
 "nbformat": 4,
 "nbformat_minor": 0
}
